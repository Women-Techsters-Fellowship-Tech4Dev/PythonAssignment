{
 "cells": [
  {
   "cell_type": "markdown",
   "id": "fbaf6a6d",
   "metadata": {},
   "source": [
    "# Check at least 20 method in list, tuples, dictionaries and give an example writing a python code"
   ]
  },
  {
   "cell_type": "markdown",
   "id": "488604f3",
   "metadata": {},
   "source": [
    "# LIST METHODS"
   ]
  },
  {
   "cell_type": "code",
   "execution_count": 3,
   "id": "eb9d0f44",
   "metadata": {},
   "outputs": [
    {
     "name": "stdout",
     "output_type": "stream",
     "text": [
      "[10, 20, 30, 40]\n"
     ]
    }
   ],
   "source": [
    "# 1. append:\n",
    "\n",
    "my_list = [10,20,30]\n",
    "my_list.append(40)\n",
    "\n",
    "#print the modified list\n",
    "print(my_list)\n"
   ]
  },
  {
   "cell_type": "code",
   "execution_count": 5,
   "id": "707dbbf9",
   "metadata": {
    "scrolled": true
   },
   "outputs": [
    {
     "name": "stdout",
     "output_type": "stream",
     "text": [
      "[10, 20, 30, 40, 50, 60, 70, 80, 90, 100]\n"
     ]
    }
   ],
   "source": [
    " # 2.extend:\n",
    "\n",
    "my_list = [10, 20, 30]\n",
    "my_list.extend([40, 50, 60, 70, 80, 90, 100])\n",
    "\n",
    "#print the modified list\n",
    "print(my_list)\n"
   ]
  },
  {
   "cell_type": "code",
   "execution_count": 6,
   "id": "004348a8",
   "metadata": {},
   "outputs": [
    {
     "name": "stdout",
     "output_type": "stream",
     "text": [
      "[15, 20, 35, 55]\n"
     ]
    }
   ],
   "source": [
    "#3. insert:\n",
    "\n",
    "my_list = [15, 20, 35]\n",
    "my_list.insert(30, 55)\n",
    "\n",
    "#print modified list\n",
    "print(my_list)\n"
   ]
  },
  {
   "cell_type": "code",
   "execution_count": 8,
   "id": "8f75a2ef",
   "metadata": {},
   "outputs": [
    {
     "name": "stdout",
     "output_type": "stream",
     "text": [
      "[15, 35, 45]\n"
     ]
    }
   ],
   "source": [
    "# 4. remove:\n",
    "\n",
    "my_list = [15, 25, 35, 45]\n",
    "my_list.remove(25)\n",
    "\n",
    "print(my_list)\n",
    "\n",
    "\n"
   ]
  },
  {
   "cell_type": "code",
   "execution_count": 9,
   "id": "95a62fb6",
   "metadata": {},
   "outputs": [
    {
     "name": "stdout",
     "output_type": "stream",
     "text": [
      "[10, 30, 40] 20\n"
     ]
    }
   ],
   "source": [
    "#5. pop:\n",
    "\n",
    "my_list = [10, 20, 30, 40]\n",
    "popped_element = my_list.pop(1)\n",
    "  \n",
    "print(my_list, popped_element)"
   ]
  },
  {
   "cell_type": "code",
   "execution_count": 10,
   "id": "bb4c9741",
   "metadata": {},
   "outputs": [
    {
     "name": "stdout",
     "output_type": "stream",
     "text": [
      "[70, 60, 50, 40]\n"
     ]
    }
   ],
   "source": [
    "# 6. reverse:\n",
    "    \n",
    "my_list = [40, 50, 60, 70]\n",
    "my_list.reverse()\n",
    "\n",
    "print(my_list)  "
   ]
  },
  {
   "cell_type": "markdown",
   "id": "282b8267",
   "metadata": {},
   "source": [
    "# TUPLE METHODS"
   ]
  },
  {
   "cell_type": "code",
   "execution_count": 12,
   "id": "dd0efe4a",
   "metadata": {},
   "outputs": [
    {
     "name": "stdout",
     "output_type": "stream",
     "text": [
      "3\n"
     ]
    }
   ],
   "source": [
    "# 7. count:\n",
    "\n",
    "my_tuple = (14, 24, 34, 44, 54, 44, 64, 44)\n",
    "count_of_44 = my_tuple.count(44)\n",
    "\n",
    "print(count_of_44)\n"
   ]
  },
  {
   "cell_type": "code",
   "execution_count": 14,
   "id": "3d9a08b6",
   "metadata": {},
   "outputs": [
    {
     "name": "stdout",
     "output_type": "stream",
     "text": [
      "2\n"
     ]
    }
   ],
   "source": [
    "# 8. index:\n",
    "    \n",
    "my_tuple = (111, 202, 311, 410)\n",
    "index_of_311 = my_tuple.index(311)\n",
    "\n",
    "print(index_of_311)\n"
   ]
  },
  {
   "cell_type": "code",
   "execution_count": 15,
   "id": "ad2d1531",
   "metadata": {},
   "outputs": [
    {
     "name": "stdout",
     "output_type": "stream",
     "text": [
      "4\n"
     ]
    }
   ],
   "source": [
    "# 9. len:\n",
    "\n",
    "my_tuple = (10, 20, 30, 40)\n",
    "length_of_tuple = len(my_tuple)\n",
    "\n",
    "print(length_of_tuple) \n"
   ]
  },
  {
   "cell_type": "code",
   "execution_count": 16,
   "id": "caabf112",
   "metadata": {},
   "outputs": [
    {
     "name": "stdout",
     "output_type": "stream",
     "text": [
      "[100, 200, 300, 400]\n"
     ]
    }
   ],
   "source": [
    "# 10. sorted:\n",
    "\n",
    "my_tuple = (400, 100, 300, 200)\n",
    "sorted_tuple = sorted(my_tuple)\n",
    "\n",
    "print(sorted_tuple) \n"
   ]
  },
  {
   "cell_type": "code",
   "execution_count": 17,
   "id": "25a8d23f",
   "metadata": {},
   "outputs": [
    {
     "name": "stdout",
     "output_type": "stream",
     "text": [
      "200000\n"
     ]
    }
   ],
   "source": [
    "# 11. max:\n",
    "\n",
    "my_tuple = (1000, 200000, 37000, 450)\n",
    "max_value = max(my_tuple)\n",
    "\n",
    "print(max_value)  \n",
    "\n"
   ]
  },
  {
   "cell_type": "code",
   "execution_count": 18,
   "id": "c78b4aa0",
   "metadata": {},
   "outputs": [
    {
     "name": "stdout",
     "output_type": "stream",
     "text": [
      "5\n"
     ]
    }
   ],
   "source": [
    "# 12. min:\n",
    "\n",
    "my_tuple = (5, 10, 15, 20)\n",
    "min_value = min(my_tuple)\n",
    "\n",
    "print(min_value)  \n"
   ]
  },
  {
   "cell_type": "markdown",
   "id": "ea6c65d6",
   "metadata": {},
   "source": [
    "# DICTIONARY METHODS"
   ]
  },
  {
   "cell_type": "code",
   "execution_count": null,
   "id": "37b6c23c",
   "metadata": {},
   "outputs": [],
   "source": []
  },
  {
   "cell_type": "code",
   "execution_count": 21,
   "id": "dcf338d3",
   "metadata": {},
   "outputs": [
    {
     "name": "stdout",
     "output_type": "stream",
     "text": [
      "6\n"
     ]
    }
   ],
   "source": [
    "# 13. get:\n",
    "    \n",
    "my_dict = {'e': 5, 'f': 6, 'g': 7}\n",
    "value_of_f = my_dict.get('f', 0)\n",
    "\n",
    "print(value_of_f)"
   ]
  },
  {
   "cell_type": "code",
   "execution_count": 22,
   "id": "db9a51cc",
   "metadata": {},
   "outputs": [
    {
     "name": "stdout",
     "output_type": "stream",
     "text": [
      "dict_keys(['e', 'f', 'g'])\n"
     ]
    }
   ],
   "source": [
    "\n",
    "# 14. keys:\n",
    "    \n",
    "my_dict = {'e': 5, 'f': 6, 'g': 7}\n",
    "all_keys = my_dict.keys()\n",
    "\n",
    "print(all_keys)"
   ]
  },
  {
   "cell_type": "code",
   "execution_count": 23,
   "id": "aaef489b",
   "metadata": {},
   "outputs": [
    {
     "name": "stdout",
     "output_type": "stream",
     "text": [
      "dict_values([5, 6, 7])\n"
     ]
    }
   ],
   "source": [
    "# 15. values:\n",
    "    \n",
    "my_dict = {'e': 5, 'f': 6, 'g': 7}\n",
    "all_values = my_dict.values()\n",
    "\n",
    "print(all_values)\n"
   ]
  },
  {
   "cell_type": "code",
   "execution_count": 24,
   "id": "eb149f18",
   "metadata": {},
   "outputs": [
    {
     "name": "stdout",
     "output_type": "stream",
     "text": [
      "dict_items([('e', 5), ('f', 6), ('g', 7)])\n"
     ]
    }
   ],
   "source": [
    "# 16. items:\n",
    "\n",
    "my_dict = {'e': 5, 'f': 6, 'g': 7}\n",
    "all_items = my_dict.items()\n",
    "\n",
    "print(all_items)\n"
   ]
  },
  {
   "cell_type": "code",
   "execution_count": 25,
   "id": "5b0ec575",
   "metadata": {},
   "outputs": [
    {
     "name": "stdout",
     "output_type": "stream",
     "text": [
      "7\n"
     ]
    }
   ],
   "source": [
    "# 17 pop:\n",
    "\n",
    "\n",
    "my_dict = {'e': 5, 'f': 6, 'g': 7}\n",
    "popped_value = my_dict.pop('g')\n",
    "\n",
    "print(popped_value)\n"
   ]
  },
  {
   "cell_type": "code",
   "execution_count": 26,
   "id": "7df0f6ac",
   "metadata": {},
   "outputs": [
    {
     "name": "stdout",
     "output_type": "stream",
     "text": [
      "('g', 7)\n"
     ]
    }
   ],
   "source": [
    "#18.popitem:\n",
    "\n",
    "my_dict = {'e': 5, 'f': 6, 'g': 7}\n",
    "popped_item = my_dict.popitem()\n",
    "\n",
    "print(popped_item)\n"
   ]
  },
  {
   "cell_type": "code",
   "execution_count": 27,
   "id": "372c22c4",
   "metadata": {},
   "outputs": [
    {
     "name": "stdout",
     "output_type": "stream",
     "text": [
      "{'e': 5, 'f': 7, 'g': 8}\n"
     ]
    }
   ],
   "source": [
    "# 19. update:\n",
    "    \n",
    "my_dict = {'e': 5, 'f': 6}\n",
    "my_dict.update({'f': 7, 'g': 8})\n",
    "\n",
    "print(my_dict)"
   ]
  },
  {
   "cell_type": "code",
   "execution_count": 28,
   "id": "586c8564",
   "metadata": {},
   "outputs": [
    {
     "name": "stdout",
     "output_type": "stream",
     "text": [
      "{}\n"
     ]
    }
   ],
   "source": [
    "# 20. clear:\n",
    "\n",
    "my_dict = {'e': 5, 'f': 6, 'g': 7}\n",
    "my_dict.clear()\n",
    "\n",
    "print(my_dict)\n",
    "\n"
   ]
  },
  {
   "cell_type": "code",
   "execution_count": null,
   "id": "daf7dbf3",
   "metadata": {},
   "outputs": [],
   "source": []
  }
 ],
 "metadata": {
  "kernelspec": {
   "display_name": "Python 3 (ipykernel)",
   "language": "python",
   "name": "python3"
  },
  "language_info": {
   "codemirror_mode": {
    "name": "ipython",
    "version": 3
   },
   "file_extension": ".py",
   "mimetype": "text/x-python",
   "name": "python",
   "nbconvert_exporter": "python",
   "pygments_lexer": "ipython3",
   "version": "3.11.5"
  }
 },
 "nbformat": 4,
 "nbformat_minor": 5
}
